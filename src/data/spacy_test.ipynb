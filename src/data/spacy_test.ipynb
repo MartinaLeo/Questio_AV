{
 "cells": [
  {
   "cell_type": "code",
   "execution_count": 2,
   "metadata": {},
   "outputs": [
    {
     "name": "stdout",
     "output_type": "stream",
     "text": [
      "Defaulting to user installation because normal site-packages is not writeable\n",
      "Collecting spacy\n",
      "  Downloading spacy-3.7.5-cp310-cp310-manylinux_2_17_x86_64.manylinux2014_x86_64.whl.metadata (27 kB)\n",
      "Requirement already satisfied: spacy-legacy<3.1.0,>=3.0.11 in /home/martinaleo/.local/lib/python3.10/site-packages (from spacy) (3.0.12)\n",
      "Requirement already satisfied: spacy-loggers<2.0.0,>=1.0.0 in /home/martinaleo/.local/lib/python3.10/site-packages (from spacy) (1.0.5)\n",
      "Requirement already satisfied: murmurhash<1.1.0,>=0.28.0 in /home/martinaleo/.local/lib/python3.10/site-packages (from spacy) (1.0.10)\n",
      "Requirement already satisfied: cymem<2.1.0,>=2.0.2 in /home/martinaleo/.local/lib/python3.10/site-packages (from spacy) (2.0.8)\n",
      "Requirement already satisfied: preshed<3.1.0,>=3.0.2 in /home/martinaleo/.local/lib/python3.10/site-packages (from spacy) (3.0.9)\n",
      "Requirement already satisfied: thinc<8.3.0,>=8.2.2 in /home/martinaleo/.local/lib/python3.10/site-packages (from spacy) (8.2.5)\n",
      "Requirement already satisfied: wasabi<1.2.0,>=0.9.1 in /home/martinaleo/.local/lib/python3.10/site-packages (from spacy) (0.10.1)\n",
      "Requirement already satisfied: srsly<3.0.0,>=2.4.3 in /home/martinaleo/.local/lib/python3.10/site-packages (from spacy) (2.4.8)\n",
      "Requirement already satisfied: catalogue<2.1.0,>=2.0.6 in /home/martinaleo/.local/lib/python3.10/site-packages (from spacy) (2.0.10)\n",
      "Requirement already satisfied: weasel<0.5.0,>=0.1.0 in /home/martinaleo/.local/lib/python3.10/site-packages (from spacy) (0.3.3)\n",
      "Requirement already satisfied: typer<1.0.0,>=0.3.0 in /home/martinaleo/.local/lib/python3.10/site-packages (from spacy) (0.4.2)\n",
      "Requirement already satisfied: tqdm<5.0.0,>=4.38.0 in /home/martinaleo/.local/lib/python3.10/site-packages (from spacy) (4.66.1)\n",
      "Requirement already satisfied: requests<3.0.0,>=2.13.0 in /home/martinaleo/.local/lib/python3.10/site-packages (from spacy) (2.31.0)\n",
      "Requirement already satisfied: pydantic!=1.8,!=1.8.1,<3.0.0,>=1.7.4 in /home/martinaleo/.local/lib/python3.10/site-packages (from spacy) (1.8.2)\n",
      "Requirement already satisfied: jinja2 in /home/martinaleo/.local/lib/python3.10/site-packages (from spacy) (3.1.2)\n",
      "Requirement already satisfied: setuptools in /home/martinaleo/.local/lib/python3.10/site-packages (from spacy) (70.2.0)\n",
      "Requirement already satisfied: packaging>=20.0 in /home/martinaleo/.local/lib/python3.10/site-packages (from spacy) (23.2)\n",
      "Requirement already satisfied: langcodes<4.0.0,>=3.2.0 in /home/martinaleo/.local/lib/python3.10/site-packages (from spacy) (3.3.0)\n",
      "Requirement already satisfied: numpy>=1.19.0 in /home/martinaleo/.local/lib/python3.10/site-packages (from spacy) (1.26.1)\n",
      "Requirement already satisfied: typing-extensions>=3.7.4.3 in /home/martinaleo/.local/lib/python3.10/site-packages (from pydantic!=1.8,!=1.8.1,<3.0.0,>=1.7.4->spacy) (4.8.0)\n",
      "Requirement already satisfied: charset-normalizer<4,>=2 in /home/martinaleo/.local/lib/python3.10/site-packages (from requests<3.0.0,>=2.13.0->spacy) (3.3.2)\n",
      "Requirement already satisfied: idna<4,>=2.5 in /usr/lib/python3/dist-packages (from requests<3.0.0,>=2.13.0->spacy) (3.3)\n",
      "Requirement already satisfied: urllib3<3,>=1.21.1 in /home/martinaleo/.local/lib/python3.10/site-packages (from requests<3.0.0,>=2.13.0->spacy) (2.1.0)\n",
      "Requirement already satisfied: certifi>=2017.4.17 in /home/martinaleo/.local/lib/python3.10/site-packages (from requests<3.0.0,>=2.13.0->spacy) (2023.11.17)\n",
      "Requirement already satisfied: blis<0.8.0,>=0.7.8 in /home/martinaleo/.local/lib/python3.10/site-packages (from thinc<8.3.0,>=8.2.2->spacy) (0.7.11)\n",
      "Requirement already satisfied: confection<1.0.0,>=0.0.1 in /home/martinaleo/.local/lib/python3.10/site-packages (from thinc<8.3.0,>=8.2.2->spacy) (0.1.3)\n",
      "Requirement already satisfied: click<9.0.0,>=7.1.1 in /usr/lib/python3/dist-packages (from typer<1.0.0,>=0.3.0->spacy) (8.0.3)\n",
      "Requirement already satisfied: cloudpathlib<0.17.0,>=0.7.0 in /home/martinaleo/.local/lib/python3.10/site-packages (from weasel<0.5.0,>=0.1.0->spacy) (0.16.0)\n",
      "Requirement already satisfied: smart-open<7.0.0,>=5.2.1 in /home/martinaleo/.local/lib/python3.10/site-packages (from weasel<0.5.0,>=0.1.0->spacy) (6.4.0)\n",
      "Requirement already satisfied: MarkupSafe>=2.0 in /home/martinaleo/.local/lib/python3.10/site-packages (from jinja2->spacy) (2.1.3)\n",
      "Downloading spacy-3.7.5-cp310-cp310-manylinux_2_17_x86_64.manylinux2014_x86_64.whl (6.6 MB)\n",
      "\u001b[2K   \u001b[90m━━━━━━━━━━━━━━━━━━━━━━━━━━━━━━━━━━━━━━━━\u001b[0m \u001b[32m6.6/6.6 MB\u001b[0m \u001b[31m1.4 MB/s\u001b[0m eta \u001b[36m0:00:00\u001b[0m:00:01\u001b[0m00:01\u001b[0m\n",
      "\u001b[?25hInstalling collected packages: spacy\n",
      "\u001b[31mERROR: pip's dependency resolver does not currently take into account all the packages that are installed. This behaviour is the source of the following dependency conflicts.\n",
      "es-core-news-sm 3.1.0 requires spacy<3.2.0,>=3.1.0, but you have spacy 3.7.5 which is incompatible.\u001b[0m\u001b[31m\n",
      "\u001b[0mSuccessfully installed spacy-3.7.5\n"
     ]
    }
   ],
   "source": [
    "!pip install spacy"
   ]
  },
  {
   "cell_type": "code",
   "execution_count": 3,
   "metadata": {},
   "outputs": [
    {
     "name": "stdout",
     "output_type": "stream",
     "text": [
      "Defaulting to user installation because normal site-packages is not writeable\n",
      "Collecting git+https://github.com/diyclassics/spacy-lookups-data.git\n",
      "  Cloning https://github.com/diyclassics/spacy-lookups-data.git to /tmp/pip-req-build-4_n9hrot\n",
      "  Running command git clone --filter=blob:none --quiet https://github.com/diyclassics/spacy-lookups-data.git /tmp/pip-req-build-4_n9hrot\n",
      "  Resolved https://github.com/diyclassics/spacy-lookups-data.git to commit 782f40d8d2fac8e2039fa2677caadad5cdfefb47\n",
      "  Preparing metadata (setup.py) ... \u001b[?25ldone\n",
      "\u001b[?25hRequirement already satisfied: setuptools in /home/martinaleo/.local/lib/python3.10/site-packages (from spacy_lookups_data==1.0.5) (70.2.0)\n",
      "Building wheels for collected packages: spacy_lookups_data\n",
      "  Building wheel for spacy_lookups_data (setup.py) ... \u001b[?25ldone\n",
      "\u001b[?25h  Created wheel for spacy_lookups_data: filename=spacy_lookups_data-1.0.5-py2.py3-none-any.whl size=100463793 sha256=88bf30edebae5a2075c06cf90e97aab3442dd1d8e0c6906878a22d1e69996abb\n",
      "  Stored in directory: /tmp/pip-ephem-wheel-cache-jyzzbmym/wheels/be/4f/1f/b11cf8c6251404bdf723774c1ce1e5f58d5f3b87a7bdf1d256\n",
      "Successfully built spacy_lookups_data\n",
      "Installing collected packages: spacy_lookups_data\n",
      "Successfully installed spacy_lookups_data-1.0.5\n"
     ]
    }
   ],
   "source": [
    "!pip install git+https://github.com/diyclassics/spacy-lookups-data.git"
   ]
  },
  {
   "cell_type": "code",
   "execution_count": 6,
   "metadata": {},
   "outputs": [
    {
     "name": "stdout",
     "output_type": "stream",
     "text": [
      "Defaulting to user installation because normal site-packages is not writeable\n",
      "\u001b[31mERROR: Invalid requirement: 'la-core-web-lg==any': Expected end or semicolon (after name and no valid version specifier)\n",
      "    la-core-web-lg==any\n",
      "                  ^\u001b[0m\u001b[31m\n",
      "\u001b[0m"
     ]
    }
   ],
   "source": [
    "!pip install https://huggingface.co/latincy/la_core_web_lg/resolve/main/la_core_web_lg-any-py3-none-any.whl"
   ]
  },
  {
   "cell_type": "code",
   "execution_count": 1,
   "metadata": {},
   "outputs": [
    {
     "name": "stderr",
     "output_type": "stream",
     "text": [
      "/home/martinaleo/.local/lib/python3.10/site-packages/tqdm/auto.py:21: TqdmWarning: IProgress not found. Please update jupyter and ipywidgets. See https://ipywidgets.readthedocs.io/en/stable/user_install.html\n",
      "  from .autonotebook import tqdm as notebook_tqdm\n"
     ]
    }
   ],
   "source": [
    "#!pip install https://huggingface.co/latincy/la_core_web_lg/resolve/main/la_core_web_lg-any-py3-none-any.whl\n",
    "\n",
    "# Using spacy.load().\n",
    "import spacy\n",
    "nlp = spacy.load(\"la_core_web_lg\")\n",
    "\n",
    "# # Importing as module.\n",
    "# import la_core_web_lg\n",
    "# nlp = la_core_web_lg.load()"
   ]
  },
  {
   "cell_type": "code",
   "execution_count": 4,
   "metadata": {},
   "outputs": [
    {
     "name": "stdout",
     "output_type": "stream",
     "text": [
      "Haec, haec, Hic, DET\n"
     ]
    }
   ],
   "source": [
    "doc = nlp('Haec narrantur a poetis de Perseo')\n",
    "\n",
    "print(f'{doc[0].text}, {doc[0].norm_}, {doc[0].lemma_}, {doc[0].pos_}')"
   ]
  },
  {
   "cell_type": "code",
   "execution_count": 1,
   "metadata": {},
   "outputs": [],
   "source": [
    "import spacy"
   ]
  },
  {
   "cell_type": "code",
   "execution_count": 2,
   "metadata": {},
   "outputs": [
    {
     "name": "stderr",
     "output_type": "stream",
     "text": [
      "/home/martinaleo/.local/lib/python3.10/site-packages/tqdm/auto.py:21: TqdmWarning: IProgress not found. Please update jupyter and ipywidgets. See https://ipywidgets.readthedocs.io/en/stable/user_install.html\n",
      "  from .autonotebook import tqdm as notebook_tqdm\n"
     ]
    }
   ],
   "source": [
    "nlp = spacy.load(\"la_core_web_lg\")"
   ]
  },
  {
   "cell_type": "code",
   "execution_count": 3,
   "metadata": {},
   "outputs": [
    {
     "name": "stderr",
     "output_type": "stream",
     "text": [
      "loading: /home/martinaleo/Quaestio_AV/authorship/src/data/Quaestio-corpus: 100%|██████████| 42/42 [00:00<00:00, 6857.44it/s]\n"
     ]
    }
   ],
   "source": [
    "from data_loader import load_corpus\n",
    "\n",
    "path = '/home/martinaleo/Quaestio_AV/authorship/src/data/Quaestio-corpus'\n",
    "documents, authors, filenames = load_corpus(path=path)"
   ]
  },
  {
   "cell_type": "code",
   "execution_count": 4,
   "metadata": {},
   "outputs": [
    {
     "name": "stdout",
     "output_type": "stream",
     "text": [
      "['Albertus Magnus', 'Albertus Magnus', 'Albertus Magnus', 'Anonymus', 'Anonymus', 'Anonymus', 'Anonymus', 'Anonymus', 'Antonio Pelacani da Parma', 'Anonymus', 'Bartholomeus de Bononia', 'Cicchus Esculanus', 'Girardus Cremonensis', 'Girardus Cremonensis', 'Girardus Cremonensis', 'Girardus Cremonensis', 'Guido Vernani', 'Guido Vernani', 'Iohannes Peckham', 'Iohannes De Sacrobosco', 'Kilwardby', 'Michael Scotus', 'Nicole Oresme', 'Nicole Oresme', 'Ptolemaeus Lucensis', 'Robertus Anglicus', 'Robertus Grosseteste', 'Robertus Grosseteste', 'Thomas De Aquino', 'Thomas De Aquino', 'Thomas De Aquino', 'Tolomeo da Lucca', 'Robertus Grosseteste', 'Albertus Magnus', 'Guglielmo di Moerbeke', 'Thomas De Aquino', 'Thomas De Aquino', 'Thomas De Aquino', 'Thomas De Aquino', 'Thomas De Aquino', 'Thomas De Aquino']\n"
     ]
    }
   ],
   "source": [
    "print(authors)"
   ]
  },
  {
   "cell_type": "code",
   "execution_count": 5,
   "metadata": {},
   "outputs": [
    {
     "name": "stdout",
     "output_type": "stream",
     "text": [
      "Bartholomeus de Bononia - DeLuce\n",
      "{Ego sum lux mundi, qui sequitur me non ambulat in tenebris, sed habebit lumen uite. } Ratione ab intellectu inuenta et experiencia in sensu facta perpendimus quod ibi accionis difficultas non retrahit ubi obiecti suauitas attrahit. Ratio autem huius est quia ad illud obiectum uelociter ac delectabiliter inclinatur omnis potentia, cui proporcionate sibi delectacionis sentitur inesse copia.\n"
     ]
    }
   ],
   "source": [
    "print(filenames[10])\n",
    "frase = documents[10][:392]\n",
    "print(frase)"
   ]
  },
  {
   "cell_type": "code",
   "execution_count": 6,
   "metadata": {},
   "outputs": [
    {
     "name": "stdout",
     "output_type": "stream",
     "text": [
      "{Ego sum lux mundi, qui sequitur me non ambulat in tenebris, sed habebit lumen uite. } Ratione ab intellectu inuenta et experiencia in sensu facta perpendimus quod ibi accionis difficultas non retrahit ubi obiecti suauitas attrahit. Ratio autem huius est quia ad illud obiectum uelociter ac delectabiliter inclinatur omnis potentia, cui proporcionate sibi delectacionis sentitur inesse copia.\n",
      "[('{', 'discourse'), ('Ego', 'nsubj'), ('sum', 'cop'), ('lux', 'ROOT'), ('mundi', 'nmod'), (',', 'punct'), ('qui', 'nsubj'), ('sequitur', 'acl:relcl'), ('me', 'obj'), ('non', 'advmod:neg'), ('ambulat', 'conj'), ('in', 'case'), ('tenebris', 'obl'), (',', 'punct'), ('sed', 'cc'), ('habebit', 'conj'), ('lumen', 'obj'), ('uite', 'obl:arg'), ('.', 'punct'), ('}', 'nsubj:pass'), ('Ratione', 'obl'), ('ab', 'case'), ('intellectu', 'obl:arg'), ('inuenta', 'advcl:abs'), ('et', 'cc'), ('experiencia', 'conj'), ('in', 'case'), ('sensu', 'obl'), ('facta', 'conj'), ('perpendimus', 'ROOT'), ('quod', 'mark'), ('ibi', 'advmod:lmod'), ('accionis', 'nmod'), ('difficultas', 'nsubj'), ('non', 'advmod:neg'), ('retrahit', 'advcl'), ('ubi', 'advmod:lmod'), ('obiecti', 'nmod'), ('suauitas', 'nsubj'), ('attrahit', 'advcl'), ('.', 'punct'), ('Ratio', 'nsubj'), ('autem', 'discourse'), ('huius', 'dep'), ('est', 'cop'), ('quia', 'mark'), ('ad', 'case'), ('illud', 'det'), ('obiectum', 'obl:arg'), ('uelociter', 'advmod'), ('ac', 'cc'), ('delectabiliter', 'conj'), ('inclinatur', 'ROOT'), ('omnis', 'det'), ('potentia', 'nsubj:pass'), (',', 'punct'), ('cui', 'obl:arg'), ('proporcionate', 'advmod'), ('sibi', 'nmod'), ('delectacionis', 'nmod'), ('sentitur', 'acl:relcl'), ('inesse', 'xcomp'), ('copia', 'nsubj'), ('.', 'punct')]\n"
     ]
    }
   ],
   "source": [
    "doc = nlp(frase)\n",
    "print(doc.text)\n",
    "couples_pos = list()\n",
    "couples_dep = list()\n",
    "trigrams_pos = list()\n",
    "trigrams_dep = ()\n",
    "\n",
    "for token in doc:\n",
    "    couples_pos.append((token.text, token.pos_))\n",
    "    couples_dep.append((token.text, token.dep_))\n",
    "    #print(token.text, token.pos_, token.dep_)\n",
    "\n",
    "print(couples_dep)"
   ]
  },
  {
   "cell_type": "code",
   "execution_count": 7,
   "metadata": {},
   "outputs": [
    {
     "name": "stdout",
     "output_type": "stream",
     "text": [
      "Trigrammi di POS:\n",
      "[('PUNCT', 'PRON', 'AUX'), ('PRON', 'AUX', 'NOUN'), ('AUX', 'NOUN', 'NOUN'), ('NOUN', 'NOUN', 'PUNCT'), ('NOUN', 'PUNCT', 'PRON'), ('PUNCT', 'PRON', 'VERB'), ('PRON', 'VERB', 'PRON'), ('VERB', 'PRON', 'PART'), ('PRON', 'PART', 'VERB'), ('PART', 'VERB', 'ADP'), ('VERB', 'ADP', 'NOUN'), ('ADP', 'NOUN', 'PUNCT'), ('NOUN', 'PUNCT', 'CCONJ'), ('PUNCT', 'CCONJ', 'VERB'), ('CCONJ', 'VERB', 'NOUN'), ('VERB', 'NOUN', 'NOUN'), ('NOUN', 'NOUN', 'PUNCT'), ('NOUN', 'PUNCT', 'PUNCT'), ('PUNCT', 'PUNCT', 'NOUN'), ('PUNCT', 'NOUN', 'ADP'), ('NOUN', 'ADP', 'NOUN'), ('ADP', 'NOUN', 'VERB'), ('NOUN', 'VERB', 'CCONJ'), ('VERB', 'CCONJ', 'NOUN'), ('CCONJ', 'NOUN', 'ADP'), ('NOUN', 'ADP', 'NOUN'), ('ADP', 'NOUN', 'VERB'), ('NOUN', 'VERB', 'VERB'), ('VERB', 'VERB', 'SCONJ'), ('VERB', 'SCONJ', 'ADV'), ('SCONJ', 'ADV', 'NOUN'), ('ADV', 'NOUN', 'NOUN'), ('NOUN', 'NOUN', 'PART'), ('NOUN', 'PART', 'VERB'), ('PART', 'VERB', 'ADV'), ('VERB', 'ADV', 'NOUN'), ('ADV', 'NOUN', 'NOUN'), ('NOUN', 'NOUN', 'VERB'), ('NOUN', 'VERB', 'PUNCT'), ('VERB', 'PUNCT', 'NOUN'), ('PUNCT', 'NOUN', 'PART'), ('NOUN', 'PART', 'DET'), ('PART', 'DET', 'AUX'), ('DET', 'AUX', 'SCONJ'), ('AUX', 'SCONJ', 'ADP'), ('SCONJ', 'ADP', 'DET'), ('ADP', 'DET', 'NOUN'), ('DET', 'NOUN', 'ADV'), ('NOUN', 'ADV', 'CCONJ'), ('ADV', 'CCONJ', 'ADV'), ('CCONJ', 'ADV', 'VERB'), ('ADV', 'VERB', 'DET'), ('VERB', 'DET', 'NOUN'), ('DET', 'NOUN', 'PUNCT'), ('NOUN', 'PUNCT', 'PRON'), ('PUNCT', 'PRON', 'ADV'), ('PRON', 'ADV', 'PRON'), ('ADV', 'PRON', 'NOUN'), ('PRON', 'NOUN', 'VERB'), ('NOUN', 'VERB', 'VERB'), ('VERB', 'VERB', 'NOUN'), ('VERB', 'NOUN', 'PUNCT')]\n",
      "\n",
      "Trigrammi di Dipendenze:\n",
      "[('discourse', 'nsubj', 'cop'), ('nsubj', 'cop', 'ROOT'), ('cop', 'ROOT', 'nmod'), ('ROOT', 'nmod', 'punct'), ('nmod', 'punct', 'nsubj'), ('punct', 'nsubj', 'acl:relcl'), ('nsubj', 'acl:relcl', 'obj'), ('acl:relcl', 'obj', 'advmod:neg'), ('obj', 'advmod:neg', 'conj'), ('advmod:neg', 'conj', 'case'), ('conj', 'case', 'obl'), ('case', 'obl', 'punct'), ('obl', 'punct', 'cc'), ('punct', 'cc', 'conj'), ('cc', 'conj', 'obj'), ('conj', 'obj', 'obl:arg'), ('obj', 'obl:arg', 'punct'), ('obl:arg', 'punct', 'nsubj:pass'), ('punct', 'nsubj:pass', 'obl'), ('nsubj:pass', 'obl', 'case'), ('obl', 'case', 'obl:arg'), ('case', 'obl:arg', 'advcl:abs'), ('obl:arg', 'advcl:abs', 'cc'), ('advcl:abs', 'cc', 'conj'), ('cc', 'conj', 'case'), ('conj', 'case', 'obl'), ('case', 'obl', 'conj'), ('obl', 'conj', 'ROOT'), ('conj', 'ROOT', 'mark'), ('ROOT', 'mark', 'advmod:lmod'), ('mark', 'advmod:lmod', 'nmod'), ('advmod:lmod', 'nmod', 'nsubj'), ('nmod', 'nsubj', 'advmod:neg'), ('nsubj', 'advmod:neg', 'advcl'), ('advmod:neg', 'advcl', 'advmod:lmod'), ('advcl', 'advmod:lmod', 'nmod'), ('advmod:lmod', 'nmod', 'nsubj'), ('nmod', 'nsubj', 'advcl'), ('nsubj', 'advcl', 'punct'), ('advcl', 'punct', 'nsubj'), ('punct', 'nsubj', 'discourse'), ('nsubj', 'discourse', 'dep'), ('discourse', 'dep', 'cop'), ('dep', 'cop', 'mark'), ('cop', 'mark', 'case'), ('mark', 'case', 'det'), ('case', 'det', 'obl:arg'), ('det', 'obl:arg', 'advmod'), ('obl:arg', 'advmod', 'cc'), ('advmod', 'cc', 'conj'), ('cc', 'conj', 'ROOT'), ('conj', 'ROOT', 'det'), ('ROOT', 'det', 'nsubj:pass'), ('det', 'nsubj:pass', 'punct'), ('nsubj:pass', 'punct', 'obl:arg'), ('punct', 'obl:arg', 'advmod'), ('obl:arg', 'advmod', 'nmod'), ('advmod', 'nmod', 'nmod'), ('nmod', 'nmod', 'acl:relcl'), ('nmod', 'acl:relcl', 'xcomp'), ('acl:relcl', 'xcomp', 'nsubj'), ('xcomp', 'nsubj', 'punct')]\n"
     ]
    }
   ],
   "source": [
    "def generate_trigrams(tokens):\n",
    "    trigrams = []\n",
    "    for i in range(len(tokens) - 2):\n",
    "        trigram = (tokens[i], tokens[i+1], tokens[i+2])\n",
    "        trigrams.append(trigram)\n",
    "    return trigrams\n",
    "\n",
    "# Analizza la frase con spaCy\n",
    "doc = nlp(frase)\n",
    "\n",
    "# Ottieni i trigrammi di POS e dipendenze\n",
    "trigram_pos = generate_trigrams([token.pos_ for token in doc])\n",
    "trigram_dep = generate_trigrams([token.dep_ for token in doc])\n",
    "\n",
    "# Stampare i trigrammi di POS e dipendenze\n",
    "print(\"Trigrammi di POS:\")\n",
    "print(trigram_pos)\n",
    "\n",
    "print(\"\\nTrigrammi di Dipendenze:\")\n",
    "print(trigram_dep)"
   ]
  },
  {
   "cell_type": "code",
   "execution_count": 18,
   "metadata": {},
   "outputs": [
    {
     "name": "stdout",
     "output_type": "stream",
     "text": [
      "loading cache from .postcache/dict.pkl\n",
      "loading cache from .depcache/dict.pkl\n",
      "FeaturesPOST\n",
      "FeatureSetReductor for FeaturesPOST\n",
      "features in: 3775 k: 3775\n",
      "\n",
      "FeaturesDEP\n",
      "FeatureSetReductor for FeaturesDEP\n",
      "features in: 1260 k: 1260\n",
      "\n"
     ]
    }
   ],
   "source": [
    "from features import FeaturesPOST, FeaturesDEP, HstackFeatureSet, FeatureSetReductor\n",
    "POS_extractor = FeaturesPOST()\n",
    "DEP_extractor = FeaturesDEP()\n",
    "\n",
    "\n",
    "vectorizers = [POS_extractor, DEP_extractor]\n",
    "hstacker = HstackFeatureSet(vectorizers)\n",
    "# reductor = FeatureSetReductor(POS_extractor)\n",
    "# reductor.fit_transform(documents, authors)\n",
    "#reductor.fit_transform(documents, authors)\n",
    "\n",
    "features_extracted = []\n",
    "\n",
    "for vectorizer in vectorizers:\n",
    "        print(vectorizer)\n",
    "        extractor = FeatureSetReductor(vectorizer)\n",
    "        features_extracted.append(extractor.fit_transform(documents, authors))\n",
    "\n",
    "\n",
    "\n",
    "X_dev_stacked = hstacker._hstack(features_extracted)"
   ]
  },
  {
   "cell_type": "code",
   "execution_count": null,
   "metadata": {},
   "outputs": [],
   "source": []
  },
  {
   "cell_type": "code",
   "execution_count": null,
   "metadata": {},
   "outputs": [],
   "source": []
  }
 ],
 "metadata": {
  "kernelspec": {
   "display_name": "Python 3",
   "language": "python",
   "name": "python3"
  },
  "language_info": {
   "codemirror_mode": {
    "name": "ipython",
    "version": 3
   },
   "file_extension": ".py",
   "mimetype": "text/x-python",
   "name": "python",
   "nbconvert_exporter": "python",
   "pygments_lexer": "ipython3",
   "version": "3.10.12"
  }
 },
 "nbformat": 4,
 "nbformat_minor": 2
}
